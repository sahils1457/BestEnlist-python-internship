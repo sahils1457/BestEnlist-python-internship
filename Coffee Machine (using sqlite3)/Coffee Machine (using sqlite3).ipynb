{
 "cells": [
  {
   "cell_type": "code",
   "execution_count": 1,
   "metadata": {},
   "outputs": [],
   "source": [
    "import sqlite3"
   ]
  },
  {
   "cell_type": "code",
   "execution_count": 2,
   "metadata": {},
   "outputs": [],
   "source": [
    "class coffeeMachine:\n",
    "    def __init__(self):\n",
    "        self.status = False\n",
    "        self.milk = 250\n",
    "        self.water = 1000\n",
    "        self.coffee = 100\n",
    "        self.money = 0\n",
    "        \n",
    "    def on(self):\n",
    "        if not self.status:\n",
    "            print('Switching on coffee machine..')\n",
    "            self.status = True\n",
    "    \n",
    "    def off(self):\n",
    "        if self.status:\n",
    "            print('Switching off coffee machine....')\n",
    "            self.status = False\n",
    "            \n",
    "    def report(self):\n",
    "        print('\\nMilk:', self.milk)\n",
    "        print('Water:', self.water)\n",
    "        print('Coffee:', self.coffee)\n",
    "        print(\"Money:\", self.money)\n",
    "    \n",
    "    def sufficiency(self, milk, water, coffee):\n",
    "        if self.milk < milk:\n",
    "            print('Sorry there is not enough milk')\n",
    "            return False\n",
    "        elif self.water < water:\n",
    "            print('Sorry there is not enough water')\n",
    "            return False\n",
    "        elif self.coffee < coffee:\n",
    "            print('Sorry there is not enough coffee')\n",
    "            return False\n",
    "        else:\n",
    "            return True\n",
    "    \n",
    "    def after_coffee(self, milk, water, coffee, money):\n",
    "        self.milk -= milk\n",
    "        self.water -= water\n",
    "        self.money += money\n",
    "        self.coffee -= coffee\n",
    "        \n",
    "    def collect_money(self, money, item):\n",
    "        print(color.BOLD +'You have to pay: {}\\n'.format(money) + color.END)\n",
    "        print('Insert Money:')\n",
    "        hundred = int(input(color.RED + 'Enter number of 100 rupees: ' + color.END) or 0)\n",
    "        fifty = int(input(color.RED + 'Enter number of 50 rupees: ' + color.END) or 0)\n",
    "        paise = int(input(color.RED +'Enter number of 50 paise: ' + color.END) or 0)\n",
    "        total_amount = hundred * 100 + fifty * 50 + paise * 0.5\n",
    "        if total_amount >= money:\n",
    "            print(color.BOLD + '\\nYou paid %g amount' %(total_amount) + color.END)\n",
    "            if total_amount > money:\n",
    "                print('\\nHere is your {} rupees change'.format(total_amount - money))\n",
    "                cur.execute('INSERT INTO coffee (item, price, \"Money Received\", \"Balance Returned\") VALUES (? ,?, ?, ?)', (item, money, total_amount, total_amount - money))\n",
    "            return True\n",
    "        else:\n",
    "            print(color.RED + '\\nSorry that not enough money. Money refunded.' + color.END)\n",
    "            return False\n",
    "        \n",
    "    def make_coffee(self, milk, water, coffee, money, item):\n",
    "        if self.status:\n",
    "            if self.sufficiency(milk, water, coffee) and self.collect_money(money, item)  :\n",
    "                print(color.BOLD + '\\nYour Coffee is Ready' + color.END)\n",
    "                conn.commit()\n",
    "                self.after_coffee(milk, water, coffee, money)"
   ]
  },
  {
   "cell_type": "code",
   "execution_count": 3,
   "metadata": {},
   "outputs": [],
   "source": [
    "class color:\n",
    "    BOLD  = '\\033[1m'\n",
    "    PURPLE = '\\033[95m'\n",
    "    UNDERLINE = '\\033[4m'\n",
    "    RED = '\\033[91m'\n",
    "    GREEN = '\\033[92m'\n",
    "    END = '\\033[0m'"
   ]
  },
  {
   "cell_type": "code",
   "execution_count": 4,
   "metadata": {},
   "outputs": [
    {
     "name": "stdout",
     "output_type": "stream",
     "text": [
      "\u001b[1m                                                          Menu                                                          \u001b[0m\n",
      "1.Expresso\n",
      "2.Latte\n",
      "3.Cappuccino\n",
      "4.Report\n",
      "\n",
      " Enter menu number: 1\n",
      "\n",
      "\n",
      "Switching on coffee machine..\n",
      "\u001b[1mYou have to pay: 85\n",
      "\u001b[0m\n",
      "Insert Money:\n",
      "Enter number of 100 rupees: 1\n",
      "Enter number of 50 rupees: \n",
      "Enter number of 50 paise: \n",
      "\u001b[1m\n",
      "You paid 100 amount\u001b[0m\n",
      "\n",
      "Here is your 15.0 rupees change\n",
      "\u001b[1m\n",
      "Your Coffee is Ready\u001b[0m\n",
      "\n",
      "Do you want to order anything else..(y/n)n\n",
      "\u001b[1m\n",
      "Thankyou for visiting us\u001b[0m\n",
      "Switching off coffee machine....\n"
     ]
    }
   ],
   "source": [
    "want = 'y'\n",
    "conn = sqlite3.connect('coffee.sqlite')\n",
    "cur = conn.cursor()\n",
    "cur.execute('CREATE TABLE IF NOT EXISTS coffee (sr_no INTEGER PRIMARY KEY ,item TEXT, price INTEGER, \"Money Received\" FLOAT, \"Balance returned\" FLOAT)')\n",
    "while want == 'y':\n",
    "    print(color.BOLD + 'Menu'.center(120) + color.END)\n",
    "    choice = int(input(color.PURPLE +'1.Expresso\\n2.Latte\\n3.Cappuccino\\n4.Report\\n\\n Enter menu number: ' + color.END))\n",
    "    print('\\n')\n",
    "    machine = coffeeMachine()\n",
    "    machine.on()\n",
    "    if choice == 1:\n",
    "        machine.make_coffee(30, 10, 3, 85, 'Expresso')\n",
    "    elif choice == 2:\n",
    "        machine.make_coffee(26.67,13.33, 1.75,215, 'Latte')\n",
    "    elif choice == 3:\n",
    "        machine.make_coffee(30, 10, 2.5, 99, 'Cappuccino')\n",
    "    elif choice == 4:\n",
    "        machine.report()\n",
    "    else:\n",
    "        print('Get out!!!')\n",
    "    want = input('\\nDo you want to order anything else..(y/n)')\n",
    "    if want != 'y':\n",
    "        print(color.BOLD + '\\nThankyou for visiting us' + color.END)\n",
    "        machine.off()"
   ]
  },
  {
   "cell_type": "code",
   "execution_count": 5,
   "metadata": {},
   "outputs": [],
   "source": [
    "def view_tranctions():\n",
    "    cur.execute('SELECT * FROM coffee')\n",
    "    for i in cur:\n",
    "        print(i)"
   ]
  },
  {
   "cell_type": "code",
   "execution_count": 6,
   "metadata": {},
   "outputs": [
    {
     "name": "stdout",
     "output_type": "stream",
     "text": [
      "(1, 'Expresso', 85, 100.0, 15.0)\n",
      "(2, 'Latte', 215, 300.0, 85.0)\n",
      "(3, 'Cappuccino', 99, 100.0, 1.0)\n",
      "(4, 'Expresso', 85, 100.0, 15.0)\n"
     ]
    }
   ],
   "source": [
    "view_tranctions()"
   ]
  },
  {
   "cell_type": "code",
   "execution_count": 7,
   "metadata": {},
   "outputs": [],
   "source": [
    "conn.close()"
   ]
  }
 ],
 "metadata": {
  "kernelspec": {
   "display_name": "Python 3",
   "language": "python",
   "name": "python3"
  },
  "language_info": {
   "codemirror_mode": {
    "name": "ipython",
    "version": 3
   },
   "file_extension": ".py",
   "mimetype": "text/x-python",
   "name": "python",
   "nbconvert_exporter": "python",
   "pygments_lexer": "ipython3",
   "version": "3.7.1"
  }
 },
 "nbformat": 4,
 "nbformat_minor": 4
}
