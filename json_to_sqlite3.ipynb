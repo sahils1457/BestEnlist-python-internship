{
 "cells": [
  {
   "cell_type": "code",
   "execution_count": 23,
   "metadata": {},
   "outputs": [],
   "source": [
    "import pandas as pd\n",
    "import json\n",
    "import urllib.request\n",
    "import sqlite3"
   ]
  },
  {
   "cell_type": "code",
   "execution_count": 15,
   "metadata": {},
   "outputs": [],
   "source": [
    "url = urllib.request.urlopen('http://py4e-data.dr-chuck.net/comments_42.json')"
   ]
  },
  {
   "cell_type": "code",
   "execution_count": 16,
   "metadata": {},
   "outputs": [],
   "source": [
    "json_file = json.loads(url.read())"
   ]
  },
  {
   "cell_type": "code",
   "execution_count": 24,
   "metadata": {},
   "outputs": [
    {
     "data": {
      "text/plain": [
       "{'note': 'This file contains the sample data for testing',\n",
       " 'comments': [{'name': 'Romina', 'count': 97},\n",
       "  {'name': 'Laurie', 'count': 97},\n",
       "  {'name': 'Bayli', 'count': 90},\n",
       "  {'name': 'Siyona', 'count': 90},\n",
       "  {'name': 'Taisha', 'count': 88},\n",
       "  {'name': 'Alanda', 'count': 87},\n",
       "  {'name': 'Ameelia', 'count': 87},\n",
       "  {'name': 'Prasheeta', 'count': 80},\n",
       "  {'name': 'Asif', 'count': 79},\n",
       "  {'name': 'Risa', 'count': 79},\n",
       "  {'name': 'Zi', 'count': 78},\n",
       "  {'name': 'Danyil', 'count': 76},\n",
       "  {'name': 'Ediomi', 'count': 76},\n",
       "  {'name': 'Barry', 'count': 72},\n",
       "  {'name': 'Lance', 'count': 72},\n",
       "  {'name': 'Hattie', 'count': 66},\n",
       "  {'name': 'Mathu', 'count': 66},\n",
       "  {'name': 'Bowie', 'count': 65},\n",
       "  {'name': 'Samara', 'count': 65},\n",
       "  {'name': 'Uchenna', 'count': 64},\n",
       "  {'name': 'Shauni', 'count': 61},\n",
       "  {'name': 'Georgia', 'count': 61},\n",
       "  {'name': 'Rivan', 'count': 59},\n",
       "  {'name': 'Kenan', 'count': 58},\n",
       "  {'name': 'Hassan', 'count': 57},\n",
       "  {'name': 'Isma', 'count': 57},\n",
       "  {'name': 'Samanthalee', 'count': 54},\n",
       "  {'name': 'Alexa', 'count': 51},\n",
       "  {'name': 'Caine', 'count': 49},\n",
       "  {'name': 'Grady', 'count': 47},\n",
       "  {'name': 'Anne', 'count': 40},\n",
       "  {'name': 'Rihan', 'count': 38},\n",
       "  {'name': 'Alexei', 'count': 37},\n",
       "  {'name': 'Indie', 'count': 36},\n",
       "  {'name': 'Rhuairidh', 'count': 36},\n",
       "  {'name': 'Annoushka', 'count': 32},\n",
       "  {'name': 'Kenzi', 'count': 25},\n",
       "  {'name': 'Shahd', 'count': 24},\n",
       "  {'name': 'Irvine', 'count': 22},\n",
       "  {'name': 'Carys', 'count': 21},\n",
       "  {'name': 'Skye', 'count': 19},\n",
       "  {'name': 'Atiya', 'count': 18},\n",
       "  {'name': 'Rohan', 'count': 18},\n",
       "  {'name': 'Nuala', 'count': 14},\n",
       "  {'name': 'Maram', 'count': 12},\n",
       "  {'name': 'Carlo', 'count': 12},\n",
       "  {'name': 'Japleen', 'count': 9},\n",
       "  {'name': 'Breeanna', 'count': 7},\n",
       "  {'name': 'Zaaine', 'count': 3},\n",
       "  {'name': 'Inika', 'count': 2}]}"
      ]
     },
     "execution_count": 24,
     "metadata": {},
     "output_type": "execute_result"
    }
   ],
   "source": [
    "json_file"
   ]
  },
  {
   "cell_type": "code",
   "execution_count": 27,
   "metadata": {},
   "outputs": [],
   "source": [
    "item_purchased = pd.DataFrame(json_file['comments'])"
   ]
  },
  {
   "cell_type": "code",
   "execution_count": 28,
   "metadata": {},
   "outputs": [
    {
     "data": {
      "text/html": [
       "<div>\n",
       "<style scoped>\n",
       "    .dataframe tbody tr th:only-of-type {\n",
       "        vertical-align: middle;\n",
       "    }\n",
       "\n",
       "    .dataframe tbody tr th {\n",
       "        vertical-align: top;\n",
       "    }\n",
       "\n",
       "    .dataframe thead th {\n",
       "        text-align: right;\n",
       "    }\n",
       "</style>\n",
       "<table border=\"1\" class=\"dataframe\">\n",
       "  <thead>\n",
       "    <tr style=\"text-align: right;\">\n",
       "      <th></th>\n",
       "      <th>name</th>\n",
       "      <th>count</th>\n",
       "    </tr>\n",
       "  </thead>\n",
       "  <tbody>\n",
       "    <tr>\n",
       "      <th>0</th>\n",
       "      <td>Romina</td>\n",
       "      <td>97</td>\n",
       "    </tr>\n",
       "    <tr>\n",
       "      <th>1</th>\n",
       "      <td>Laurie</td>\n",
       "      <td>97</td>\n",
       "    </tr>\n",
       "    <tr>\n",
       "      <th>2</th>\n",
       "      <td>Bayli</td>\n",
       "      <td>90</td>\n",
       "    </tr>\n",
       "    <tr>\n",
       "      <th>3</th>\n",
       "      <td>Siyona</td>\n",
       "      <td>90</td>\n",
       "    </tr>\n",
       "    <tr>\n",
       "      <th>4</th>\n",
       "      <td>Taisha</td>\n",
       "      <td>88</td>\n",
       "    </tr>\n",
       "  </tbody>\n",
       "</table>\n",
       "</div>"
      ],
      "text/plain": [
       "     name  count\n",
       "0  Romina     97\n",
       "1  Laurie     97\n",
       "2   Bayli     90\n",
       "3  Siyona     90\n",
       "4  Taisha     88"
      ]
     },
     "execution_count": 28,
     "metadata": {},
     "output_type": "execute_result"
    }
   ],
   "source": [
    "item_purchased.head()"
   ]
  },
  {
   "cell_type": "code",
   "execution_count": 25,
   "metadata": {},
   "outputs": [],
   "source": [
    "conn = sqlite3.connect('json_sql.sqlite')"
   ]
  },
  {
   "cell_type": "code",
   "execution_count": 26,
   "metadata": {},
   "outputs": [],
   "source": [
    "cur = conn.cursor()"
   ]
  },
  {
   "cell_type": "code",
   "execution_count": 31,
   "metadata": {},
   "outputs": [],
   "source": [
    "item_purchased.to_sql('json_sql', conn)"
   ]
  },
  {
   "cell_type": "code",
   "execution_count": 32,
   "metadata": {},
   "outputs": [
    {
     "data": {
      "text/plain": [
       "<sqlite3.Cursor at 0x24dd0a7d340>"
      ]
     },
     "execution_count": 32,
     "metadata": {},
     "output_type": "execute_result"
    }
   ],
   "source": [
    "cur.execute('SELECT * FROM json_sql')"
   ]
  },
  {
   "cell_type": "code",
   "execution_count": 33,
   "metadata": {},
   "outputs": [
    {
     "name": "stdout",
     "output_type": "stream",
     "text": [
      "(0, 'Romina', 97)\n",
      "(1, 'Laurie', 97)\n",
      "(2, 'Bayli', 90)\n",
      "(3, 'Siyona', 90)\n",
      "(4, 'Taisha', 88)\n",
      "(5, 'Alanda', 87)\n",
      "(6, 'Ameelia', 87)\n",
      "(7, 'Prasheeta', 80)\n",
      "(8, 'Asif', 79)\n",
      "(9, 'Risa', 79)\n",
      "(10, 'Zi', 78)\n",
      "(11, 'Danyil', 76)\n",
      "(12, 'Ediomi', 76)\n",
      "(13, 'Barry', 72)\n",
      "(14, 'Lance', 72)\n",
      "(15, 'Hattie', 66)\n",
      "(16, 'Mathu', 66)\n",
      "(17, 'Bowie', 65)\n",
      "(18, 'Samara', 65)\n",
      "(19, 'Uchenna', 64)\n",
      "(20, 'Shauni', 61)\n",
      "(21, 'Georgia', 61)\n",
      "(22, 'Rivan', 59)\n",
      "(23, 'Kenan', 58)\n",
      "(24, 'Hassan', 57)\n",
      "(25, 'Isma', 57)\n",
      "(26, 'Samanthalee', 54)\n",
      "(27, 'Alexa', 51)\n",
      "(28, 'Caine', 49)\n",
      "(29, 'Grady', 47)\n",
      "(30, 'Anne', 40)\n",
      "(31, 'Rihan', 38)\n",
      "(32, 'Alexei', 37)\n",
      "(33, 'Indie', 36)\n",
      "(34, 'Rhuairidh', 36)\n",
      "(35, 'Annoushka', 32)\n",
      "(36, 'Kenzi', 25)\n",
      "(37, 'Shahd', 24)\n",
      "(38, 'Irvine', 22)\n",
      "(39, 'Carys', 21)\n",
      "(40, 'Skye', 19)\n",
      "(41, 'Atiya', 18)\n",
      "(42, 'Rohan', 18)\n",
      "(43, 'Nuala', 14)\n",
      "(44, 'Maram', 12)\n",
      "(45, 'Carlo', 12)\n",
      "(46, 'Japleen', 9)\n",
      "(47, 'Breeanna', 7)\n",
      "(48, 'Zaaine', 3)\n",
      "(49, 'Inika', 2)\n"
     ]
    }
   ],
   "source": [
    "for i in cur:\n",
    "    print(i)"
   ]
  },
  {
   "cell_type": "code",
   "execution_count": null,
   "metadata": {},
   "outputs": [],
   "source": []
  }
 ],
 "metadata": {
  "kernelspec": {
   "display_name": "Python 3",
   "language": "python",
   "name": "python3"
  },
  "language_info": {
   "codemirror_mode": {
    "name": "ipython",
    "version": 3
   },
   "file_extension": ".py",
   "mimetype": "text/x-python",
   "name": "python",
   "nbconvert_exporter": "python",
   "pygments_lexer": "ipython3",
   "version": "3.7.1"
  }
 },
 "nbformat": 4,
 "nbformat_minor": 4
}
