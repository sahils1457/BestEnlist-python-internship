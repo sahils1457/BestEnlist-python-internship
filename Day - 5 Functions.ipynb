{
 "cells": [
  {
   "cell_type": "markdown",
   "metadata": {},
   "source": [
    "# Exercise"
   ]
  },
  {
   "cell_type": "markdown",
   "metadata": {},
   "source": [
    "1. Create a function getting two integer inputs fromm user and print the addition, substraction, division and multiplication."
   ]
  },
  {
   "cell_type": "code",
   "execution_count": 5,
   "metadata": {},
   "outputs": [],
   "source": [
    "def Calculator(input1, input2):\n",
    "    print('Addition of two numbers is', input1 + input2)\n",
    "    print('Subtraction of two numbers is', input1 - input2)\n",
    "    print('Division of two numbers is', input1 / input2)\n",
    "    print('Multiplication of two numbers is', input1 * input2)"
   ]
  },
  {
   "cell_type": "code",
   "execution_count": 6,
   "metadata": {},
   "outputs": [
    {
     "name": "stdout",
     "output_type": "stream",
     "text": [
      "Enter first number: 100\n",
      "Enter second number: 10\n",
      "\n",
      "Addition of two numbers is 110\n",
      "Subtraction of two numbers is 90\n",
      "Division of two numbers is 10.0\n",
      "Multiplication of two numbers is 1000\n"
     ]
    }
   ],
   "source": [
    "no1 = int(input('Enter first number: '))\n",
    "no2 = int(input('Enter second number: '))\n",
    "print()\n",
    "Calculator(no1, no2)"
   ]
  },
  {
   "cell_type": "markdown",
   "metadata": {},
   "source": [
    "2. Create a function covid() and it should accept name, and body temperature by default the body temperature should be 98 degree"
   ]
  },
  {
   "cell_type": "code",
   "execution_count": 7,
   "metadata": {},
   "outputs": [],
   "source": [
    "def covid(name, temp = 98):\n",
    "    print('{0} temperature is {1} degree fahrenheit'.format(name, temp))"
   ]
  },
  {
   "cell_type": "code",
   "execution_count": 10,
   "metadata": {},
   "outputs": [
    {
     "name": "stdout",
     "output_type": "stream",
     "text": [
      "Enter patient name: sahil\n",
      "Enter temperature (in fahrenheit): \n",
      "sahil temperature is 98 degree fahrenheit\n"
     ]
    }
   ],
   "source": [
    "name = input('Enter patient name: ')\n",
    "try:\n",
    "    temp = int(input('Enter temperature (in fahrenheit): '))\n",
    "except:\n",
    "    temp = 98\n",
    "covid(name, temp)"
   ]
  },
  {
   "cell_type": "code",
   "execution_count": null,
   "metadata": {},
   "outputs": [],
   "source": []
  }
 ],
 "metadata": {
  "kernelspec": {
   "display_name": "Python 3",
   "language": "python",
   "name": "python3"
  },
  "language_info": {
   "codemirror_mode": {
    "name": "ipython",
    "version": 3
   },
   "file_extension": ".py",
   "mimetype": "text/x-python",
   "name": "python",
   "nbconvert_exporter": "python",
   "pygments_lexer": "ipython3",
   "version": "3.7.1"
  }
 },
 "nbformat": 4,
 "nbformat_minor": 4
}
